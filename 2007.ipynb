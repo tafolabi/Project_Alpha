{
 "cells": [
  {
   "cell_type": "code",
   "execution_count": null,
   "metadata": {},
   "outputs": [],
   "source": [
    "# import dependencies\n",
    "import pandas as pd\n",
    "import numpy as np\n",
    "import os\n",
    "import matplotlib.pyplot as plt\n",
    "import warnings; warnings.simplefilter('ignore')\n",
    "%matplotlib inline"
   ]
  },
  {
   "cell_type": "code",
   "execution_count": null,
   "metadata": {},
   "outputs": [],
   "source": [
    "# create file path and create DataFrame from the file\n",
    "path_1 = \"Resources/enter_2012.csv\"\n",
    "path_2 = \"Resources/enter_2007.csv\"\n",
    "df = pd.read_csv(path_2,skiprows =1)\n",
    "df2 = pd.read_csv(path_1,skiprows = 1)\n",
    "# view the total list of columns\n",
    "pd.options.display.max_columns = 100\n",
    "# print(pd.options.display.max_columns)"
   ]
  },
  {
   "cell_type": "code",
   "execution_count": null,
   "metadata": {},
   "outputs": [],
   "source": [
    "# Rename the columns for ease of use in our code\n",
    "df = df.rename(columns={\"Geographic area name\":\"State\",\"Meaning of 2007 NAICS code\":\"Sector\", \n",
    "                        \"Meaning of Gender code\":\"Gender owned\", \"Meaning of Race code\": \"Race\",\n",
    "                         \"Number of firms with or without paid employees\":\"Number of Firms\",\n",
    "                         \"Sales, receipts, or value of shipments of firms with or without paid employees ($1,000)\":\"Total Firm Sales\",\n",
    "                         \"Number of firms with paid employees\":\"Paid Emp Firms\", \"Sales, receipts, or value of shipments of firms with paid employees ($1,000)\":\"Paid Emp Sales\",\n",
    "                         \"Annual payroll ($1,000)\":\"Annual Payroll\", \"Number of firms without paid employees\":\"Unpaid Emp Firms\",\n",
    "                         \"Sales, receipts, or value of shipments of firms without paid employees ($1,000)\": \"Unpaid Emp Sales\", \"Meaning of Ethnicity code\":\"Ethnicity\",\n",
    "                        \"Number of paid employees for pay period including March 12\":\"Total Paid Emp\"\n",
    "                        })\n",
    "df.head()"
   ]
  },
  {
   "cell_type": "code",
   "execution_count": null,
   "metadata": {},
   "outputs": [],
   "source": [
    "# Rename the columns for ease of use in our code\n",
    "df2 = df2.rename(columns={\"Geographic area name\":\"State\",\"Meaning of 2012 NAICS code\":\"Sector\", \n",
    "                        \"Meaning of Gender code\":\"Gender owned\", \"Meaning of Race code\": \"Race\",\n",
    "                         \"Number of firms with or without paid employees\":\"Number of Firms\",\n",
    "                         \"Sales, receipts, or value of shipments of firms with or without paid employees ($1,000)\":\"Total Firm Sales\",\n",
    "                         \"Number of firms with paid employees\":\"Paid Emp Firms\", \"Sales, receipts, or value of shipments of firms with paid employees ($1,000)\":\"Paid Emp Sales\",\n",
    "                         \"Annual payroll ($1,000)\":\"Annual Payroll\", \"Number of firms without paid employees\":\"Unpaid Emp Firms\",\n",
    "                         \"Sales, receipts, or value of shipments of firms without paid employees ($1,000)\": \"Unpaid Emp Sales\", \"Meaning of Ethnicity code\":\"Ethnicity\",\n",
    "                        \"Number of paid employees for pay period including March 12\":\"Total Paid Emp\"\n",
    "                        })\n",
    "df2.head()\n"
   ]
  },
  {
   "cell_type": "code",
   "execution_count": null,
   "metadata": {},
   "outputs": [],
   "source": [
    "# Create a new dataframe for selected columns to analyze revenue of firms per state\n",
    "firms_revenue = df[['State', 'Total Firm Sales', 'Race','Gender owned', 'Ethnicity', 'Sector']]\n"
   ]
  },
  {
   "cell_type": "code",
   "execution_count": null,
   "metadata": {},
   "outputs": [],
   "source": [
    "# Remove all the place holder value \"S\" from the column Total Firm Sales\n",
    "firms_revenue1 = firms_revenue.replace({ 'Total Firm Sales' : 'S' },np.NaN)\n",
    "firms_revenue1.head(2)"
   ]
  },
  {
   "cell_type": "code",
   "execution_count": null,
   "metadata": {},
   "outputs": [],
   "source": [
    "# Select the total firms sales(Revenue) by State\n",
    "firms_revenue2 = firms_revenue1.loc[(firms_revenue1['Sector'] == 'Total for all sectors') & (firms_revenue1['Race'] == 'All firms') \\\n",
    "                                        & (firms_revenue1['Ethnicity'] == 'All firms') & (firms_revenue1['Gender owned'] == 'All firms')]\n"
   ]
  },
  {
   "cell_type": "code",
   "execution_count": null,
   "metadata": {},
   "outputs": [],
   "source": [
    "# Get the Top ten values by State for Total firm sales(Revenue)\n",
    "firms_revenue2['Total Firm Sales'] = firms_revenue2['Total Firm Sales'].astype('int64')\n",
    "Top_ten_df = firms_revenue2.sort_values(by='Total Firm Sales', ascending=False)\n",
    "Top_ten_firms = Top_ten_df.head(10)\n",
    "Top_ten_firms"
   ]
  },
  {
   "cell_type": "code",
   "execution_count": null,
   "metadata": {},
   "outputs": [],
   "source": [
    "# Plot the Top ten values by State for Total firm sales(Revenue) \n",
    "xpos = np.arange(len(Top_ten_firms['State']))\n",
    "plt.xticks(xpos, Top_ten_firms['State'])\n",
    "#plt.ticklabel_format(style='plain', axis='y', color='black')\n",
    "\n",
    "plt.ylabel('Total Firms Revenue (US$)', color='black')\n",
    "# plt.xlabel('States')\n",
    "plt.title('Revenue of firms per State', color='black')\n",
    "plt.bar(xpos, Top_ten_firms['Total Firm Sales'], width=0.6,\n",
    "        label='Total Firms Revenue', facecolor='coral')\n",
    "legend = plt.legend()\n",
    "plt.rcParams['figure.figsize']= (12,7)\n",
    "# fig, ax = plt.subplots(facecolor='lightslategray')\n",
    "plt.style.use('Solarize_Light2')\n",
    "legend.get_frame().set_facecolor('grey')\n",
    "plt.savefig(\"Output/Revenue_state2007.png\")"
   ]
  },
  {
   "cell_type": "code",
   "execution_count": null,
   "metadata": {},
   "outputs": [],
   "source": [
    "# Create a new dataframe for selected columns to analyze revenue of Paid and Unpaid Employment firms per state\n",
    "paid_unpaid = df[['State', 'Race','Gender owned', 'Ethnicity', \n",
    "                       'Sector', 'Paid Emp Sales', 'Unpaid Emp Sales']]\n",
    "paid_unpaid.head()"
   ]
  },
  {
   "cell_type": "code",
   "execution_count": null,
   "metadata": {},
   "outputs": [],
   "source": [
    "# Select the Paid and Upaid employee firms sales(Revenue) by State\n",
    "paid_unpaid1 = paid_unpaid.loc[(paid_unpaid['Sector'] == 'Total for all sectors') & (paid_unpaid['Race'] == 'All firms') & \n",
    "                                        (paid_unpaid['Ethnicity'] == 'All firms') & (paid_unpaid['Gender owned'] == 'All firms')]\n"
   ]
  },
  {
   "cell_type": "code",
   "execution_count": null,
   "metadata": {},
   "outputs": [],
   "source": [
    "# Get the Top ten values by State for Total firm sales(Revenue)\n",
    "paid_unpaid1['Unpaid Emp Sales'] = paid_unpaid1['Unpaid Emp Sales'].astype('int64')\n",
    "paid_unpaid1['Paid Emp Sales'] = paid_unpaid1['Paid Emp Sales'].astype('int64')\n",
    "Top_ten_emp_df = paid_unpaid1.sort_values(by=('Paid Emp Sales'), ascending=False)\n",
    "Top_ten_emp = Top_ten_emp_df.head(10)\n",
    "Top_ten_emp"
   ]
  },
  {
   "cell_type": "code",
   "execution_count": null,
   "metadata": {},
   "outputs": [],
   "source": [
    "# Plot the Top ten values by State for Paid and Unpaid employee firm sales(Revenue) \n",
    "xpos = np.arange(len(Top_ten_emp['State']))\n",
    "plt.xticks(xpos+0.2, Top_ten_emp['State'])\n",
    "#plt.ticklabel_format(style='plain', axis='y', color='black')\n",
    "\n",
    "plt.bar(xpos, Top_ten_emp['Paid Emp Sales'], width=0.4,\n",
    "        label='Paid Employee Revenue', facecolor='coral', align='center')\n",
    "plt.bar(xpos+0.4, Top_ten_emp['Unpaid Emp Sales'], width=0.4,\n",
    "        label='Unpaid Employee Revenue', facecolor='lightskyblue', align='center')\n",
    "\n",
    "plt.title('Revenue of Businesses(Paid vs Unpaid employment) per State', color='black')\n",
    "plt.ylabel('Revenue (US$)', color='black')\n",
    "\n",
    "legend = plt.legend()\n",
    "plt.rcParams['figure.figsize']= (12,7)\n",
    "plt.style.use('Solarize_Light2')\n",
    "legend.get_frame().set_facecolor('grey')\n",
    "plt.savefig(\"Output/Revenue_state_Paid_Unpaid2007.png\")"
   ]
  },
  {
   "cell_type": "code",
   "execution_count": null,
   "metadata": {},
   "outputs": [],
   "source": [
    "# Create a new dataframe for selected columns to analyze annual average employment income per state\n",
    "avg_income = df[['State', 'Race','Gender owned', 'Ethnicity', \n",
    "                       'Sector', 'Total Paid Emp', 'Annual Payroll']]\n",
    "avg_income.head()"
   ]
  },
  {
   "cell_type": "code",
   "execution_count": null,
   "metadata": {},
   "outputs": [],
   "source": [
    "# Remove all the place holder values from the columns Total Firm Employees and Total Annal Payroll\n",
    "avg_income = avg_income.replace({ 'Total Paid Emp' :\n",
    "                                               ['a','b', 'c', 'e', 'f', 'g', 'h', 'i','S']},np.NaN)\n",
    "avg_income = avg_income.replace({ 'Annual Payroll' : ['S','D'] },np.NaN)\n",
    "avg_income = avg_income.replace({ 'Total Paid Emp' : np.NaN },0)\n",
    "avg_income = avg_income.replace({ 'Annual Payroll' : np.NaN },0)\n",
    "\n",
    "\n",
    "avg_income['Total Paid Emp'] = avg_income['Total Paid Emp'].astype('int64')\n",
    "avg_income['Annual Payroll'] = avg_income['Annual Payroll'].astype('int64')"
   ]
  },
  {
   "cell_type": "code",
   "execution_count": null,
   "metadata": {},
   "outputs": [],
   "source": [
    "# Calculate the average income by dividing the Total Payroll by the total  number of employees\n",
    "avg_income['Avg Income'] = avg_income['Annual Payroll']/avg_income['Total Paid Emp']"
   ]
  },
  {
   "cell_type": "code",
   "execution_count": null,
   "metadata": {},
   "outputs": [],
   "source": [
    "avg_income.head(2)"
   ]
  },
  {
   "cell_type": "code",
   "execution_count": null,
   "metadata": {},
   "outputs": [],
   "source": [
    "# Select the Total annual average income by State\n",
    "avg_income1 = avg_income.loc[(avg_income['Sector'] == 'Total for all sectors') & (avg_income['Race'] == 'All firms')\n",
    "                                        & (avg_income['Ethnicity'] == 'All firms') & (avg_income['Gender owned'] == 'All firms')]\n"
   ]
  },
  {
   "cell_type": "code",
   "execution_count": null,
   "metadata": {},
   "outputs": [],
   "source": [
    "#Use a pandas pivot to class your table by Male and Female owned firms\n",
    "Top_ten_avgMF_o = Top_ten_avgMF[['State', 'Gender owned', 'Avg Income']]\n",
    "Top_ten_avgMF_n = Top_ten_avgMF_o.pivot(index = 'State', columns = 'Gender owned')\n",
    "Top_ten_avgMF_n"
   ]
  },
  {
   "cell_type": "code",
   "execution_count": null,
   "metadata": {},
   "outputs": [],
   "source": [
    "#Reset Index for the result of your pivot table\n",
    "Top_ten_avgMF_m = pd.DataFrame(Top_ten_avgMF_n.to_records())\n",
    "\n",
    "Top_ten_avgMF_m\n"
   ]
  },
  {
   "cell_type": "code",
   "execution_count": null,
   "metadata": {},
   "outputs": [],
   "source": [
    "# Rename the column header to by replacing unwanted values in the header.\n",
    "# note- pandas rename doesn't do this well so use a replace function\n",
    "Top_ten_avgMF_m.columns = [hdr.replace(\"('Avg Income', '\", \"\" ).replace(\"')\", \"\") \\\n",
    "                           for hdr in Top_ten_avgMF_m.columns]\n",
    "\n",
    "Top_ten_avgMF_m"
   ]
  },
  {
   "cell_type": "code",
   "execution_count": null,
   "metadata": {},
   "outputs": [],
   "source": [
    "# Plot the values by State for annual average employee income for Male and Female owned businesses\n",
    "xpos = np.arange(len(Top_ten_avgMF_m['State']))\n",
    "plt.xticks(xpos+0.2, Top_ten_avgMF_m['State'])\n",
    "plt.ticklabel_format(style='plain', axis='y', color='black')\n",
    "\n",
    "plt.bar(xpos, Top_ten_avgMF_m['Male-owned'],width=0.4,\n",
    "        label='Male owned', facecolor='lightskyblue', align='center')\n",
    "plt.bar(xpos+0.4, Top_ten_avgMF_m['Female-owned'], width=0.4,\n",
    "        label='Female owned', facecolor='coral', align='center')\n",
    "\n",
    "plt.title('Revenue of Busnesses(Paid vs Unpaid employment) per State', color='black')\n",
    "plt.ylabel('Average Yearly Employee Income (US$, Thousands)', color='black')\n",
    "\n",
    "legend = plt.legend()\n",
    "plt.rcParams['figure.figsize']= (15,9)\n",
    "plt.style.use('Solarize_Light2')\n",
    "legend.get_frame().set_facecolor('grey')\n",
    "plt.savefig(\"Output/AvgIncome__MFstate2007.png\")"
   ]
  },
  {
   "cell_type": "code",
   "execution_count": null,
   "metadata": {},
   "outputs": [],
   "source": [
    "# create file path and create DataFrame from the file\n",
    "path_3 = \"Resources/enter_2012.csv\"\n",
    "df_2 = pd.read_csv(path_3,skiprows =1)\n",
    "\n",
    "# view the total list of columns\n",
    "pd.options.display.max_columns = 100\n",
    "# print(pd.options.display.max_columns)\n",
    "\n",
    "# view first 5 rows of the data\n",
    "df_2.head()"
   ]
  },
  {
   "cell_type": "code",
   "execution_count": null,
   "metadata": {},
   "outputs": [],
   "source": [
    "# Rename the columns for ease of use in our code\n",
    "df_2 = df_2.rename(columns={\"Geographic area name\":\"State\",\"Meaning of 2012 NAICS code\":\"Sector\", \n",
    "                        \"Meaning of Gender code\":\"Gender owned\", \"Meaning of Race code\": \"Race\",\n",
    "                         \"Number of firms with or without paid employees\":\"Number of Firms\",\n",
    "                         \"Sales, receipts, or value of shipments of firms with or without paid employees ($1,000)\":\"Total Firm Sales\",\n",
    "                         \"Number of firms with paid employees\":\"Paid Emp Firms\", \"Sales, receipts, or value of shipments of firms with paid employees ($1,000)\":\"Paid Emp Sales\",\n",
    "                         \"Annual payroll ($1,000)\":\"Annual Payroll\", \"Number of firms without paid employees\":\"Unpaid Emp Firms\",\n",
    "                         \"Sales, receipts, or value of shipments of firms without paid employees ($1,000)\": \"Unpaid Emp Sales\", \"Meaning of Ethnicity code\":\"Ethnicity\",\n",
    "                        \"Number of paid employees for pay period including March 12\":\"Total Paid Emp\"\n",
    "                        })\n",
    "df_2.head()"
   ]
  },
  {
   "cell_type": "code",
   "execution_count": null,
   "metadata": {},
   "outputs": [],
   "source": [
    "# Create a new dataframe for selected columns to analyze revenue of firms per state\n",
    "firms_revenue3 = df_2[['State', 'Total Firm Sales', 'Race','Gender owned', 'Ethnicity', 'Sector']]\n",
    "\n",
    "# Remove all the place holder value \"S\" from the column Total Firm Sales\n",
    "firms_revenue4 = firms_revenue3.replace({ 'Total Firm Sales' : 'S' },np.NaN)\n",
    "firms_revenue4.head(2)"
   ]
  },
  {
   "cell_type": "code",
   "execution_count": null,
   "metadata": {},
   "outputs": [],
   "source": [
    "firms_revenue5 = firms_revenue4.loc[(firms_revenue4['Sector'] == 'Total for all sectors') & (firms_revenue4['Race'] == 'All firms') \\\n",
    "                                        & (firms_revenue4['Ethnicity'] == 'All firms') & (firms_revenue4['Gender owned'] == 'All firms')]\n",
    "# Get the Top ten values by State for Total firm sales(Revenue)\n",
    "firms_revenue5['Total Firm Sales'] = firms_revenue5['Total Firm Sales'].astype('int64')\n",
    "Top_ten_df1 = firms_revenue5.sort_values(by='Total Firm Sales', ascending=False)\n",
    "Top_ten_firms1 = Top_ten_df1.head(10)\n",
    "Top_ten_firms1"
   ]
  },
  {
   "cell_type": "code",
   "execution_count": null,
   "metadata": {},
   "outputs": [],
   "source": [
    "merged_firms_number = pd.merge(Top_ten_firms, Top_ten_firms1, on=\"State\")\n",
    "merged_firms_number = merged_firms_number[[\"State\", \"Total Firm Sales_x\", \"Total Firm Sales_y\"]]\n",
    "merged_firms_number = merged_firms_number.rename(columns = {\"Total Firm Sales_x\":\"Revenue_2007\",\"Total Firm Sales_y\":\"Revenue_2012\"})\n",
    "merged_firms_number"
   ]
  },
  {
   "cell_type": "code",
   "execution_count": null,
   "metadata": {},
   "outputs": [],
   "source": [
    "# Plot the values by State for annual average employee income for Male and Female owned businesses\n",
    "xpos = np.arange(len(merged_firms_number['State']))\n",
    "plt.xticks(xpos+0.2, merged_firms_number['State'])\n",
    "# plt.ticklabel_format(style='plain', axis='y', color='black')\n",
    "\n",
    "plt.bar(xpos, merged_firms_number['Revenue_2007'],width=0.4,\n",
    "        label='Revenue_2007', facecolor='orange', align='center')\n",
    "plt.bar(xpos+0.4, merged_firms_number['Revenue_2012'], width=0.4,\n",
    "        label='Revenue_2012', facecolor='green', align='center')\n",
    "\n",
    "plt.title('Revenue of Businesses(Year 2007 vs Year 2012) Top Ten States', color='black')\n",
    "plt.ylabel('Average Yearly Employee Income (US$, Thousands)', color='black')\n",
    "\n",
    "legend = plt.legend()\n",
    "plt.rcParams['figure.figsize']= (15,9)\n",
    "plt.style.use('Solarize_Light2')\n",
    "legend.get_frame().set_facecolor('grey')\n",
    "plt.savefig(\"Output/Revenue__2007_2012.png\")"
   ]
  },
  {
   "cell_type": "code",
   "execution_count": null,
   "metadata": {},
   "outputs": [],
   "source": []
  },
  {
   "cell_type": "code",
   "execution_count": null,
   "metadata": {},
   "outputs": [],
   "source": []
  },
  {
   "cell_type": "code",
   "execution_count": null,
   "metadata": {},
   "outputs": [],
   "source": []
  },
  {
   "cell_type": "code",
   "execution_count": null,
   "metadata": {},
   "outputs": [],
   "source": []
  },
  {
   "cell_type": "code",
   "execution_count": null,
   "metadata": {},
   "outputs": [],
   "source": [
    "# Get the Top ten values by State for Total annual average income by State\n",
    "Top_ten_avg_df = avg_income1.sort_values(by=('Avg Income'), ascending=False)\n",
    "Top_ten_avg = Top_ten_avg_df.head(10)\n",
    "Top_ten_avg"
   ]
  },
  {
   "cell_type": "code",
   "execution_count": null,
   "metadata": {},
   "outputs": [],
   "source": [
    "# Plot the Top ten values by State for annual average employee income\n",
    "xpos = np.arange(len(Top_ten_avg['State']))\n",
    "plt.xticks(xpos, Top_ten_avg['State'])\n",
    "#plt.ticklabel_format(style='plain', axis='y', color='black')\n",
    "\n",
    "plt.ylabel('Average Yearly Employee Income (US$, Thousands)', color='black')\n",
    "# plt.xlabel('States')\n",
    "plt.title('Annual Average Employee Income per State', color='black')\n",
    "plt.bar(xpos, Top_ten_avg['Avg Income'], width=0.5,\n",
    "        label='Average Income per state', facecolor='coral')\n",
    "legend = plt.legend()\n",
    "plt.rcParams['figure.figsize']= (15,9)\n",
    "# fig, ax = plt.subplots(facecolor='lightslategray')\n",
    "plt.style.use('Solarize_Light2')\n",
    "legend.get_frame().set_facecolor('grey')\n",
    "plt.savefig(\"Output/AvgIncome_state2007.png\")"
   ]
  },
  {
   "cell_type": "code",
   "execution_count": null,
   "metadata": {},
   "outputs": [],
   "source": [
    "# Select the Total annual average income for firms owned by Men and Women by State\n",
    "Male_Female = ['Male-owned', 'Female-owned']\n",
    "avg_income2 = avg_income.loc[(avg_income['Sector'] == 'Total for all sectors') & (avg_income['Race'] == 'All firms')\n",
    "                                        & (avg_income['Ethnicity'] == 'All firms') & (avg_income['Gender owned'].isin(Male_Female))]\n"
   ]
  },
  {
   "cell_type": "code",
   "execution_count": null,
   "metadata": {},
   "outputs": [],
   "source": [
    "# Get the values for the Top Ten Total annual average income by State for Male and female owned firms\n",
    "StatesMF = ['District of Columbia', 'New York', 'Connecticut', 'Massachusetts', 'New Jersey',\n",
    "            'California', 'Delaware', 'Maryland', 'Washington', 'Illinois']\n",
    "Top_ten_avgMF = avg_income2.loc[(avg_income2['State'].isin(StatesMF))]\n"
   ]
  },
  {
   "cell_type": "code",
   "execution_count": null,
   "metadata": {},
   "outputs": [],
   "source": [
    "#Use a pandas pivot to class your table by Male and Female owned firms\n",
    "Top_ten_avgMF_o = Top_ten_avgMF[['State', 'Gender owned', 'Avg Income']]\n",
    "Top_ten_avgMF_n = Top_ten_avgMF_o.pivot(index = 'State', columns = 'Gender owned')\n",
    "Top_ten_avgMF_n"
   ]
  },
  {
   "cell_type": "code",
   "execution_count": null,
   "metadata": {},
   "outputs": [],
   "source": [
    "#Reset Index for the result of your pivot table\n",
    "Top_ten_avgMF_m = pd.DataFrame(Top_ten_avgMF_n.to_records())\n",
    "\n",
    "Top_ten_avgMF_m\n"
   ]
  },
  {
   "cell_type": "code",
   "execution_count": null,
   "metadata": {},
   "outputs": [],
   "source": [
    "# Rename the column header to by replacing unwanted values in the header.\n",
    "# note- pandas rename doesn't do this well so use a replace function\n",
    "Top_ten_avgMF_m.columns = [hdr.replace(\"('Avg Income', '\", \"\" ).replace(\"')\", \"\") \\\n",
    "                           for hdr in Top_ten_avgMF_m.columns]\n",
    "\n",
    "Top_ten_avgMF_m"
   ]
  },
  {
   "cell_type": "code",
   "execution_count": null,
   "metadata": {},
   "outputs": [],
   "source": [
    "# Plot the values by State for annual average employee income for Male and Female owned businesses\n",
    "xpos = np.arange(len(Top_ten_avgMF_m['State']))\n",
    "plt.xticks(xpos+0.2, Top_ten_avgMF_m['State'])\n",
    "#plt.ticklabel_format(style='plain', axis='y', color='black')\n",
    "\n",
    "plt.bar(xpos, Top_ten_avgMF_m['Male-owned'],width=0.4,\n",
    "        label='Male owned', facecolor='lightskyblue', align='center')\n",
    "plt.bar(xpos+0.4, Top_ten_avgMF_m['Female-owned'], width=0.4,\n",
    "        label='Female owned', facecolor='coral', align='center')\n",
    "\n",
    "plt.title('Revenue of Busnesses(Paid vs Unpaid employment) per State', color='black')\n",
    "plt.ylabel('Average Yearly Employee Income (US$, Thousands)', color='black')\n",
    "\n",
    "legend = plt.legend()\n",
    "plt.rcParams['figure.figsize']= (15,9)\n",
    "plt.style.use('Solarize_Light2')\n",
    "legend.get_frame().set_facecolor('grey')\n",
    "plt.savefig(\"Output/AvgIncome__MFstate2007.png\")"
   ]
  },
  {
   "cell_type": "code",
   "execution_count": null,
   "metadata": {},
   "outputs": [],
   "source": [
    "# create file path and create DataFrame from the file\n",
    "path_3 = \"Resources/enter_2012.csv\"\n",
    "df_2 = pd.read_csv(path_3,skiprows =1)\n",
    "\n",
    "# view the total list of columns\n",
    "pd.options.display.max_columns = 100\n",
    "# print(pd.options.display.max_columns)\n",
    "\n",
    "# view first 5 rows of the data\n",
    "df_2.head()"
   ]
  },
  {
   "cell_type": "code",
   "execution_count": null,
   "metadata": {},
   "outputs": [],
   "source": [
    "# Rename the columns for ease of use in our code\n",
    "df_2 = df_2.rename(columns={\"Geographic area name\":\"State\",\"Meaning of 2012 NAICS code\":\"Sector\", \n",
    "                        \"Meaning of Gender code\":\"Gender owned\", \"Meaning of Race code\": \"Race\",\n",
    "                         \"Number of firms with or without paid employees\":\"Number of Firms\",\n",
    "                         \"Sales, receipts, or value of shipments of firms with or without paid employees ($1,000)\":\"Total Firm Sales\",\n",
    "                         \"Number of firms with paid employees\":\"Paid Emp Firms\", \"Sales, receipts, or value of shipments of firms with paid employees ($1,000)\":\"Paid Emp Sales\",\n",
    "                         \"Annual payroll ($1,000)\":\"Annual Payroll\", \"Number of firms without paid employees\":\"Unpaid Emp Firms\",\n",
    "                         \"Sales, receipts, or value of shipments of firms without paid employees ($1,000)\": \"Unpaid Emp Sales\", \"Meaning of Ethnicity code\":\"Ethnicity\",\n",
    "                        \"Number of paid employees for pay period including March 12\":\"Total Paid Emp\"\n",
    "                        })\n",
    "df_2.head()"
   ]
  },
  {
   "cell_type": "code",
   "execution_count": null,
   "metadata": {},
   "outputs": [],
   "source": [
    "# Create a new dataframe for selected columns to analyze revenue of firms per state\n",
    "firms_revenue3 = df_2[['State', 'Total Firm Sales', 'Race','Gender owned', 'Ethnicity', 'Sector']]\n",
    "\n",
    "# Remove all the place holder value \"S\" from the column Total Firm Sales\n",
    "firms_revenue4 = firms_revenue3.replace({ 'Total Firm Sales' : 'S' },np.NaN)\n",
    "firms_revenue4.head(2)"
   ]
  },
  {
   "cell_type": "code",
   "execution_count": null,
   "metadata": {},
   "outputs": [],
   "source": [
    "firms_revenue5 = firms_revenue4.loc[(firms_revenue4['Sector'] == 'Total for all sectors') & (firms_revenue4['Race'] == 'All firms') \\\n",
    "                                        & (firms_revenue4['Ethnicity'] == 'All firms') & (firms_revenue4['Gender owned'] == 'All firms')]\n",
    "# Get the Top ten values by State for Total firm sales(Revenue)\n",
    "firms_revenue5['Total Firm Sales'] = firms_revenue5['Total Firm Sales'].astype('int64')\n",
    "Top_ten_df1 = firms_revenue5.sort_values(by='Total Firm Sales', ascending=False)\n",
    "Top_ten_firms1 = Top_ten_df1.head(10)\n",
    "Top_ten_firms1"
   ]
  },
  {
   "cell_type": "code",
   "execution_count": null,
   "metadata": {},
   "outputs": [],
   "source": [
    "merged_firms_number = pd.merge(Top_ten_firms, Top_ten_firms1, on=\"State\")\n",
    "merged_firms_number = merged_firms_number[[\"State\", \"Total Firm Sales_x\", \"Total Firm Sales_y\"]]\n",
    "merged_firms_number = merged_firms_number.rename(columns = {\"Total Firm Sales_x\":\"Revenue_2007\",\"Total Firm Sales_y\":\"Revenue_2012\"})\n",
    "merged_firms_number"
   ]
  },
  {
   "cell_type": "code",
   "execution_count": null,
   "metadata": {},
   "outputs": [],
   "source": [
    "# Plot the values by State for annual average employee income for Male and Female owned businesses\n",
    "xpos = np.arange(len(merged_firms_number['State']))\n",
    "plt.xticks(xpos+0.2, merged_firms_number['State'])\n",
    "# plt.ticklabel_format(style='plain', axis='y', color='black')\n",
    "\n",
    "plt.bar(xpos, merged_firms_number['Revenue_2007'],width=0.4,\n",
    "        label='Revenue_2007', facecolor='orange', align='center')\n",
    "plt.bar(xpos+0.4, merged_firms_number['Revenue_2012'], width=0.4,\n",
    "        label='Revenue_2012', facecolor='green', align='center')\n",
    "\n",
    "plt.title('Revenue of Businesses(Year 2007 vs Year 2012) Top Ten States', color='black')\n",
    "plt.ylabel('Average Yearly Employee Income (US$, Thousands)', color='black')\n",
    "\n",
    "legend = plt.legend()\n",
    "plt.rcParams['figure.figsize']= (15,9)\n",
    "plt.style.use('Solarize_Light2')\n",
    "legend.get_frame().set_facecolor('grey')\n",
    "plt.savefig(\"Output/Revenue__2007_2012.png\")"
   ]
  },
  {
   "cell_type": "code",
   "execution_count": null,
   "metadata": {},
   "outputs": [],
   "source": []
  },
  {
   "cell_type": "code",
   "execution_count": null,
   "metadata": {},
   "outputs": [],
   "source": []
  },
  {
   "cell_type": "markdown",
   "metadata": {},
   "source": [
    "##  Problems 4-6 Examines if the different sectors experienced growth between 2007 to 2012.    We also examine if growth there was any impact in the growth by Race and  Gender. "
   ]
  },
  {
   "cell_type": "code",
   "execution_count": null,
   "metadata": {},
   "outputs": [],
   "source": [
    "#Defining plot style for subsequent plots below\n",
    "plt.style.use('Solarize_Light2')"
   ]
  },
  {
   "cell_type": "code",
   "execution_count": null,
   "metadata": {},
   "outputs": [],
   "source": [
    "#Filter the orginal dataframe to the colomns(dataset) of interest. [state, sector, gender owned, race,ethinicity]\n",
    "df_new=df[['State','Sector','Gender owned','Race', 'Ethnicity','Number of Firms']]\n",
    "#convert the Numeric data from string to integer\n",
    "df_new['Number of Firms']=pd.to_numeric(df_new['Number of Firms'],errors='coerce')\n",
    "# This is the new dataset to work with for 2007 analysis\n",
    "df_new.head()\n"
   ]
  },
  {
   "cell_type": "code",
   "execution_count": null,
   "metadata": {},
   "outputs": [],
   "source": [
    "#Filter the orginal dataframe to the colomns(dataset) of interest. [state, sector, gender owned, race,ethinicity]\n",
    "df2_new=df2[['State','Sector','Gender owned','Race', 'Ethnicity','Number of Firms']]\n",
    "# This is the new dataset to work with for 2012 analysis\n",
    "df2_new"
   ]
  },
  {
   "cell_type": "markdown",
   "metadata": {},
   "source": [
    " "
   ]
  },
  {
   "cell_type": "code",
   "execution_count": null,
   "metadata": {},
   "outputs": [],
   "source": [
    "df_new.head()"
   ]
  },
  {
   "cell_type": "code",
   "execution_count": null,
   "metadata": {},
   "outputs": [],
   "source": [
    "# DataFrame to view all sectors not classified as Total Sector in 2007 data set\n",
    "df_d= df_new.loc[(df_new['Sector']!='Total for all sectors')  &  (df_new['Race']=='All firms') &(df_new['Gender owned']=='All firms') & (df_new['Ethnicity']=='All firms')]\n",
    "df_d = df_d[df_d['Number of Firms'] == df_d.groupby(['Sector'])['Number of Firms'].transform(max)]\n",
    "df_d=df_d.sort_values('Number of Firms', ascending= False)\n",
    "dfd_plot_h = df_d.head(5)\n",
    "dfd_plot_t = df_d.tail(5)\n",
    "df_total = [dfd_plot_h,dfd_plot_t]\n",
    "df_total = pd.concat([dfd_plot_h,dfd_plot_t])\n",
    "plt.barh(df_total[\"Sector\"],df_total[\"Number of Firms\"])\n",
    "plt.savefig(\"Output/Top 5 and Bottom 5 Sectors 2007.png\")"
   ]
  },
  {
   "cell_type": "code",
   "execution_count": null,
   "metadata": {},
   "outputs": [],
   "source": [
    "# DataFrame to view all sectors not classified as Total Sector in 2012 data set\n",
    "df_d2= df2_new.loc[(df_new['Sector']!='Total for all sectors')  &  (df_new['Race']=='All firms') &(df_new['Gender owned']=='All firms') & (df_new['Ethnicity']=='All firms')]\n",
    "df_d2 = df_d2[df_d2['Number of Firms'] == df_d2.groupby(['Sector'])['Number of Firms'].transform(max)]\n",
    "df_d2=df_d2.sort_values('Number of Firms', ascending= False)\n",
    "dfd_plot_h2 = df_d2.head(5)\n",
    "dfd_plot_t2 = df_d2.tail(5)\n",
    "df_total2 = [dfd_plot_h2,dfd_plot_t2]\n",
    "df_total2 = pd.concat([dfd_plot_h2,dfd_plot_t2])\n",
    "plt.barh(df_total2[\"Sector\"],df_total2[\"Number of Firms\"])\n",
    "plt.savefig(\"Output/Top 5 and Bottom 5 Sectors 2012.png\")"
   ]
  },
  {
   "cell_type": "code",
   "execution_count": null,
   "metadata": {},
   "outputs": [],
   "source": [
    "df_new.head()"
   ]
  },
  {
   "cell_type": "code",
   "execution_count": null,
   "metadata": {},
   "outputs": [],
   "source": [
    "## Problem Number 4: Number of Firms by Sector"
   ]
  },
  {
   "cell_type": "code",
   "execution_count": null,
   "metadata": {},
   "outputs": [],
   "source": [
    "# This is the new dataset that examines which sectors experienced growth in 2007 data.\n",
    "\n",
    "df_sector_07= df_new.loc[(df_new['Sector']!='Total for all sectors')  &  (df_new['Race']=='All firms') &(df_new['Gender owned']=='All firms') & (df_new['Ethnicity']=='All firms')]\n",
    "df_sector_07 = df_sector_07[df_sector_07['Number of Firms'] == df_sector_07.groupby(['Sector'])['Number of Firms'].transform(max)]\n",
    "df_sector_07=df_sector_07.sort_values('Number of Firms', ascending= False)\n",
    "dfd_plot_h = df_sector_07.head(5)\n",
    "dfd_plot_t = df_sector_07.tail(5)\n",
    "df_total = [dfd_plot_h,dfd_plot_t]\n",
    "df_total = pd.concat([dfd_plot_h,dfd_plot_t])\n",
    "plt.barh(df_total[\"Sector\"],df_total[\"Number of Firms\"])\n",
    "plt.savefig(\"Output/Top 5 and Bottom 5 Sectors 2007.png\")\n",
    "\n",
    "\n"
   ]
  },
  {
   "cell_type": "code",
   "execution_count": null,
   "metadata": {},
   "outputs": [],
   "source": [
    "# This is the new dataset that examines which sectors experienced growth in 2012 data.\n",
    "df_sector_12= df2_new.loc[(df_new['Sector']!='Total for all sectors')  &  (df_new['Race']=='All firms') &(df_new['Gender owned']=='All firms') & (df_new['Ethnicity']=='All firms')]\n",
    "df_sector_12 = df_sector_12[df_sector_12['Number of Firms'] == df_sector_12.groupby(['Sector'])['Number of Firms'].transform(max)]\n",
    "df_sector_12=df_sector_12.sort_values('Number of Firms', ascending= False)\n",
    "dfd_plot_h2 = df_sector_12.head(5)\n",
    "dfd_plot_t2 = df_sector_12.tail(5)\n",
    "df_total2 = [dfd_plot_h2,dfd_plot_t2]\n",
    "df_total2 = pd.concat([dfd_plot_h2,dfd_plot_t2])\n",
    "plt.barh(df_total2[\"Sector\"],df_total2[\"Number of Firms\"])\n",
    "plt.savefig(\"Output/Top 5 and Bottom 5 Sectors 2012.png\")\n",
    "\n",
    "\n"
   ]
  },
  {
   "cell_type": "code",
   "execution_count": null,
   "metadata": {},
   "outputs": [],
   "source": [
    "#Here the two data sets are merged (2007, 2012)\n",
    "merge_sectors = pd.merge(df_sector_07,df_sector_12, on=\"Sector\")\n",
    "merge_sectors"
   ]
  },
  {
   "cell_type": "code",
   "execution_count": null,
   "metadata": {},
   "outputs": [],
   "source": [
    "# A look into the data set for confirmation\n",
    "num_2007=merge_sectors[\"Number of Firms_x\"]\n",
    "#num_2007"
   ]
  },
  {
   "cell_type": "code",
   "execution_count": null,
   "metadata": {},
   "outputs": [],
   "source": [
    "# A look into the data set for confirmation\n",
    "num_2012=merge_sectors[\"Number of Firms_y\"]\n",
    "#num_2012"
   ]
  },
  {
   "cell_type": "code",
   "execution_count": null,
   "metadata": {},
   "outputs": [],
   "source": [
    "# This plots the merged sectors and modifications from matplotlib are used to insert title, legend and labels\n",
    "ypos = np.arange(len(merge_sectors[\"Sector\"]))\n",
    "plt.yticks(ypos+0.2, merge_sectors[\"Sector\"])\n",
    "bar_width = 0.4\n",
    "plt.title('Number of Firms by Sector', color='black')\n",
    "plt.ylabel(('Sector)'), color='black')\n",
    "plt.xlabel(('Number of Firms'), color='black')\n",
    "plt.barh(ypos,num_2007,bar_width,label='2007', facecolor='lightskyblue', align='center')\n",
    "plt.barh(ypos+bar_width, num_2012,bar_width,label='2012', facecolor='coral', align='center')\n",
    "legend = plt.legend()\n",
    "plt.rcParams['figure.figsize']= (12,7)\n",
    "plt.style.use('Solarize_Light2')\n",
    "legend.get_frame().set_facecolor('grey')\n",
    "plt.savefig(\"Output/Top 5 and Bottom 5 Sectors for both 2007 and 2012.png\")\n",
    "\n",
    "\n"
   ]
  },
  {
   "cell_type": "code",
   "execution_count": null,
   "metadata": {},
   "outputs": [],
   "source": [
    "dfz = df_sector_07[df_sector_07['Number of Firms'] == df_sector_07.groupby(['Sector'])['Number of Firms'].transform(max)]\n",
    "dfz=dfz.sort_values('Number of Firms', ascending= False)\n",
    "dfz\n"
   ]
  },
  {
   "cell_type": "code",
   "execution_count": null,
   "metadata": {},
   "outputs": [],
   "source": [
    "dfz2 = df_sector_12[df_sector_12['Number of Firms'] == df_sector_12.groupby(['Sector'])['Number of Firms'].transform(max)]\n",
    "dfz2=dfz2.sort_values('Number of Firms', ascending= False)\n",
    "dfz2\n"
   ]
  },
  {
   "cell_type": "markdown",
   "metadata": {},
   "source": [
    "## Problem Number 5: Race"
   ]
  },
  {
   "cell_type": "code",
   "execution_count": null,
   "metadata": {},
   "outputs": [],
   "source": [
    "#Looking at the race data from 2007 with loc, and then sorting it my max-min values and finally plotting the graphs to show what is happening by race in 2007\n",
    "df_race= df_new.loc[(df_new['Sector']=='Total for all sectors')  &  (df_new['Race']=='White')  |(df_new['Race']=='Asian')|(df_new['Race']=='Black or African American')&(df_new['Gender owned']=='All firms') & (df_new['Ethnicity']=='All firms')]\n",
    "df_race['Number of Firms']=pd.to_numeric(df_race['Number of Firms'],errors='coerce')\n",
    "dfzr = df_race[df_race['Number of Firms'] == df_race.groupby(['Race'])['Number of Firms'].transform(max)]\n",
    "dfzr=dfzr.sort_values('Number of Firms', ascending= False)\n",
    "dfzr_plot=dfzr.head(10)\n",
    "dfzr_plot\n",
    "plt.title('Number of Firms by Race', color='black')\n",
    "plt.ylabel(('Number of Firms)'), color='black')\n",
    "dfzr_plot.reset_index(inplace=True)\n",
    "plt.bar(dfzr_plot[\"Race\"],dfzr_plot[\"Number of Firms\"])\n",
    "plt.savefig(\"Output/Number of Firms by Race 2007.png\")\n"
   ]
  },
  {
   "cell_type": "code",
   "execution_count": null,
   "metadata": {},
   "outputs": [],
   "source": [
    "#Looking at the race data from 2012 with loc, and then sorting it my max-min values and finally plotting the graphs to show what is happening by race in 2012\n",
    "df2_race= df2_new.loc[(df2_new['Sector']=='Total for all sectors')  &  (df2_new['Race']=='White')  |(df2_new['Race']=='Asian')|(df2_new['Race']=='Black or African American')&(df2_new['Gender owned']=='All firms') & (df2_new['Ethnicity']=='All firms')]\n",
    "df2_race['Number of Firms']=pd.to_numeric(df2_race['Number of Firms'],errors='coerce')\n",
    "dfzr2 = df2_race[df2_race['Number of Firms'] == df2_race.groupby(['Race'])['Number of Firms'].transform(max)]\n",
    "dfzr2=dfzr2.sort_values('Number of Firms', ascending= False)\n",
    "dfzr2_plot=dfzr2.head(10)\n",
    "dfzr2_plot\n",
    "plt.title('Number of Firms by Race', color='black')\n",
    "plt.ylabel(('Number of Firms)'), color='black')\n",
    "dfzr2_plot.reset_index(inplace=True)\n",
    "plt.bar(dfzr2_plot[\"Race\"],dfzr2_plot[\"Number of Firms\"])\n",
    "plt.savefig(\"Output/Number of Firms by Race 2012.png\")\n"
   ]
  },
  {
   "cell_type": "code",
   "execution_count": null,
   "metadata": {},
   "outputs": [],
   "source": [
    "#Merging the data at the Race column for both 2007 and 2012 data set\n",
    "merge_race = pd.merge(dfzr_plot, dfzr2_plot, on=\"Race\")\n",
    "merge_race\n",
    "xpos = np.arange(len(merge_race[\"Race\"]))\n",
    "plt.xticks(ypos+bar_width, merge_race[\"Race\"])\n",
    "bar_width = 0.4\n",
    "plt.title('Number of Firms by Race', color='black')\n",
    "plt.ylabel(('Number of Firms)'), color='black')\n",
    "plt.xlabel(('Race'), color='black')\n",
    "plt.bar(xpos,merge_race[\"Number of Firms_x\"],bar_width,label='2007', facecolor='lightskyblue', align='center')\n",
    "plt.bar(xpos+bar_width,merge_race[\"Number of Firms_y\"],bar_width,label='2012', facecolor='coral', align='center')\n",
    "legend = plt.legend()\n",
    "plt.rcParams['figure.figsize']= (12,7)\n",
    "plt.style.use('Solarize_Light2')\n",
    "legend.get_frame().set_facecolor('grey')\n",
    "plt.savefig(\"Output/Number of Firms by Race for both 2007 and 2012.png\")\n",
    "\n"
   ]
  },
  {
   "cell_type": "markdown",
   "metadata": {},
   "source": [
    "## Problem Number 6: Gender"
   ]
  },
  {
   "cell_type": "code",
   "execution_count": null,
   "metadata": {},
   "outputs": [],
   "source": [
    "#Looking at the gender data fro6m 2007 with loc, and then sorting it my max-min values and finally plotting the graphs to show what is happening by gender in 2007\n",
    "df_gen_07= df_new.loc[(df_new['Sector']=='Total for all sectors')  &  (df_new['Race']=='All firms')  & (df_new['Ethnicity']=='All firms')&(df_new['Gender owned']=='Female-owned')|(df_new['Gender owned']=='Male-owned') |(df_new['Gender owned']=='Equally male-/female-owned')]\n",
    "df_gen_07=df_gen_07.groupby(['Gender owned']).agg({\"Number of Firms\": \"max\"})\n",
    "df_gen_07=df_gen_07.sort_values('Number of Firms', ascending= False)\n",
    "df_gen_07\n",
    "plt.title('Number of Firms by Gender', color='black')\n",
    "plt.ylabel(('Number of Firms)'), color='black')\n",
    "df_gen_07.reset_index(inplace=True)\n",
    "df_gen_07\n",
    "plt.bar(df_gen_07[\"Gender owned\"],df_gen_07[\"Number of Firms\"])\n",
    "plt.savefig(\"Output/Number of Firms by Gender 2007.png\")\n",
    "\n"
   ]
  },
  {
   "cell_type": "code",
   "execution_count": null,
   "metadata": {},
   "outputs": [],
   "source": [
    "#Looking at the gender data from 2012 with loc, and then sorting it my max-min values and finally plotting the graphs to show what is happening by gender in 2012\n",
    "df2_gen_12= df2_new.loc[(df2_new['Sector']=='Total for all sectors')  &  (df2_new['Race']=='All firms')  & (df2_new['Ethnicity']=='All firms')&(df2_new['Gender owned']=='Female-owned')|(df2_new['Gender owned']=='Male-owned') |(df2_new['Gender owned']=='Equally male-/female-owned')]\n",
    "df2_gen_12=df2_gen_12.sort_values('Number of Firms', ascending= False)\n",
    "df2_gen_12\n",
    "plt.title('Number of Firms by Gender', color='black')\n",
    "plt.ylabel(('Number of Firms)'), color='black')\n",
    "df2_gen_12.reset_index(inplace=True)\n",
    "df2_gen_12\n",
    "plt.bar(df2_gen_12[\"Gender owned\"],df2_gen_12[\"Number of Firms\"])\n",
    "plt.savefig(\"Output/Number of Firms by Gender 2012.png\")\n",
    "df2_gen_12=df2_gen_12.groupby(['Gender owned']).agg({\"Number of Firms\": \"max\"})\n",
    "\n"
   ]
  },
  {
   "cell_type": "code",
   "execution_count": null,
   "metadata": {},
   "outputs": [],
   "source": [
    "#Merging the data at the Gender column for both 2007 and 2012 data set\n",
    "merge_gender = pd.merge(df_gen_07, df2_gen_12, on=\"Gender owned\")\n",
    "merge_gender\n",
    "xpos = np.arange(len(merge_gender[\"Gender owned\"]))\n",
    "plt.xticks(ypos+bar_width, merge_gender[\"Gender owned\"])\n",
    "bar_width = 0.4\n",
    "plt.title('Number of Firms by Gender ', color='black')\n",
    "plt.ylabel(('Number of Firms)'), color='black')\n",
    "plt.xlabel(('Gender'), color='black')\n",
    "plt.bar(xpos,merge_gender[\"Number of Firms_x\"],bar_width,label='2007', facecolor='lightskyblue', align='center')\n",
    "plt.bar(xpos+bar_width,merge_gender[\"Number of Firms_y\"],bar_width,label='2012', facecolor='coral', align='center')\n",
    "legend = plt.legend()\n",
    "plt.rcParams['figure.figsize']= (12,7)\n",
    "plt.style.use('Solarize_Light2')\n",
    "legend.get_frame().set_facecolor('grey')\n",
    "plt.savefig(\"Output/Number of Firms by Gender for both 2007 and 2012.png\")\n"
   ]
  },
  {
   "cell_type": "code",
   "execution_count": null,
   "metadata": {},
   "outputs": [],
   "source": [
    "\n",
    "df_sector_07\n"
   ]
  },
  {
   "cell_type": "code",
   "execution_count": null,
   "metadata": {},
   "outputs": [],
   "source": [
    "# Using pivot table to see what is happening in each state and which sector is making moves in the state\n",
    "df_pivot=df_new.pivot_table(index=['State','Sector'], values =['Number of Firms'],aggfunc=max)\n",
    "df_pivot.loc['Maryland']\n"
   ]
  },
  {
   "cell_type": "code",
   "execution_count": null,
   "metadata": {},
   "outputs": [],
   "source": []
  },
  {
   "cell_type": "code",
   "execution_count": null,
   "metadata": {},
   "outputs": [],
   "source": []
  }
 ],
 "metadata": {
  "kernelspec": {
   "display_name": "Python 3",
   "language": "python",
   "name": "python3"
  },
  "language_info": {
   "codemirror_mode": {
    "name": "ipython",
    "version": 3
   },
   "file_extension": ".py",
   "mimetype": "text/x-python",
   "name": "python",
   "nbconvert_exporter": "python",
   "pygments_lexer": "ipython3",
   "version": "3.7.0"
  }
 },
 "nbformat": 4,
 "nbformat_minor": 2
}
